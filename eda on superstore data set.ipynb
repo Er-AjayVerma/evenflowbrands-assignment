{
 "cells": [
  {
   "cell_type": "markdown",
   "metadata": {},
   "source": [
    "# **Importing Dataset**"
   ]
  },
  {
   "cell_type": "code",
   "execution_count": 1,
   "metadata": {
    "execution": {
     "iopub.execute_input": "2021-11-26T08:54:49.201093Z",
     "iopub.status.busy": "2021-11-26T08:54:49.200629Z",
     "iopub.status.idle": "2021-11-26T08:54:49.249131Z",
     "shell.execute_reply": "2021-11-26T08:54:49.248293Z",
     "shell.execute_reply.started": "2021-11-26T08:54:49.201057Z"
    }
   },
   "outputs": [
    {
     "data": {
      "text/html": [
       "<div>\n",
       "<style scoped>\n",
       "    .dataframe tbody tr th:only-of-type {\n",
       "        vertical-align: middle;\n",
       "    }\n",
       "\n",
       "    .dataframe tbody tr th {\n",
       "        vertical-align: top;\n",
       "    }\n",
       "\n",
       "    .dataframe thead th {\n",
       "        text-align: right;\n",
       "    }\n",
       "</style>\n",
       "<table border=\"1\" class=\"dataframe\">\n",
       "  <thead>\n",
       "    <tr style=\"text-align: right;\">\n",
       "      <th></th>\n",
       "      <th>Ship Mode</th>\n",
       "      <th>Customer ID</th>\n",
       "      <th>Customer Name</th>\n",
       "      <th>Segment</th>\n",
       "      <th>Country</th>\n",
       "      <th>City</th>\n",
       "      <th>State</th>\n",
       "      <th>Postal Code</th>\n",
       "      <th>Region</th>\n",
       "      <th>Product ID</th>\n",
       "      <th>Category</th>\n",
       "      <th>Sub-Category</th>\n",
       "      <th>Product Name</th>\n",
       "      <th>Sales</th>\n",
       "      <th>Quantity</th>\n",
       "      <th>Discount</th>\n",
       "      <th>Profit</th>\n",
       "    </tr>\n",
       "  </thead>\n",
       "  <tbody>\n",
       "    <tr>\n",
       "      <th>0</th>\n",
       "      <td>Second Class</td>\n",
       "      <td>CG-12520</td>\n",
       "      <td>Claire Gute</td>\n",
       "      <td>Consumer</td>\n",
       "      <td>United States</td>\n",
       "      <td>Henderson</td>\n",
       "      <td>Kentucky</td>\n",
       "      <td>42420</td>\n",
       "      <td>South</td>\n",
       "      <td>FUR-BO-10001798</td>\n",
       "      <td>Furniture</td>\n",
       "      <td>Bookcases</td>\n",
       "      <td>Bush Somerset Collection Bookcase</td>\n",
       "      <td>261.9600</td>\n",
       "      <td>2</td>\n",
       "      <td>0.00</td>\n",
       "      <td>41.9136</td>\n",
       "    </tr>\n",
       "    <tr>\n",
       "      <th>1</th>\n",
       "      <td>Second Class</td>\n",
       "      <td>CG-12520</td>\n",
       "      <td>Claire Gute</td>\n",
       "      <td>Consumer</td>\n",
       "      <td>United States</td>\n",
       "      <td>Henderson</td>\n",
       "      <td>Kentucky</td>\n",
       "      <td>42420</td>\n",
       "      <td>South</td>\n",
       "      <td>FUR-CH-10000454</td>\n",
       "      <td>Furniture</td>\n",
       "      <td>Chairs</td>\n",
       "      <td>Hon Deluxe Fabric Upholstered Stacking Chairs,...</td>\n",
       "      <td>731.9400</td>\n",
       "      <td>3</td>\n",
       "      <td>0.00</td>\n",
       "      <td>219.5820</td>\n",
       "    </tr>\n",
       "    <tr>\n",
       "      <th>2</th>\n",
       "      <td>Second Class</td>\n",
       "      <td>DV-13045</td>\n",
       "      <td>Darrin Van Huff</td>\n",
       "      <td>Corporate</td>\n",
       "      <td>United States</td>\n",
       "      <td>Los Angeles</td>\n",
       "      <td>California</td>\n",
       "      <td>90036</td>\n",
       "      <td>West</td>\n",
       "      <td>OFF-LA-10000240</td>\n",
       "      <td>Office Supplies</td>\n",
       "      <td>Labels</td>\n",
       "      <td>Self-Adhesive Address Labels for Typewriters b...</td>\n",
       "      <td>14.6200</td>\n",
       "      <td>2</td>\n",
       "      <td>0.00</td>\n",
       "      <td>6.8714</td>\n",
       "    </tr>\n",
       "    <tr>\n",
       "      <th>3</th>\n",
       "      <td>Standard Class</td>\n",
       "      <td>SO-20335</td>\n",
       "      <td>Sean O'Donnell</td>\n",
       "      <td>Consumer</td>\n",
       "      <td>United States</td>\n",
       "      <td>Fort Lauderdale</td>\n",
       "      <td>Florida</td>\n",
       "      <td>33311</td>\n",
       "      <td>South</td>\n",
       "      <td>FUR-TA-10000577</td>\n",
       "      <td>Furniture</td>\n",
       "      <td>Tables</td>\n",
       "      <td>Bretford CR4500 Series Slim Rectangular Table</td>\n",
       "      <td>957.5775</td>\n",
       "      <td>5</td>\n",
       "      <td>0.45</td>\n",
       "      <td>-383.0310</td>\n",
       "    </tr>\n",
       "    <tr>\n",
       "      <th>4</th>\n",
       "      <td>Standard Class</td>\n",
       "      <td>SO-20335</td>\n",
       "      <td>Sean O'Donnell</td>\n",
       "      <td>Consumer</td>\n",
       "      <td>United States</td>\n",
       "      <td>Fort Lauderdale</td>\n",
       "      <td>Florida</td>\n",
       "      <td>33311</td>\n",
       "      <td>South</td>\n",
       "      <td>OFF-ST-10000760</td>\n",
       "      <td>Office Supplies</td>\n",
       "      <td>Storage</td>\n",
       "      <td>Eldon Fold 'N Roll Cart System</td>\n",
       "      <td>22.3680</td>\n",
       "      <td>2</td>\n",
       "      <td>0.20</td>\n",
       "      <td>2.5164</td>\n",
       "    </tr>\n",
       "  </tbody>\n",
       "</table>\n",
       "</div>"
      ],
      "text/plain": [
       "        Ship Mode Customer ID    Customer Name    Segment        Country  \\\n",
       "0    Second Class    CG-12520      Claire Gute   Consumer  United States   \n",
       "1    Second Class    CG-12520      Claire Gute   Consumer  United States   \n",
       "2    Second Class    DV-13045  Darrin Van Huff  Corporate  United States   \n",
       "3  Standard Class    SO-20335   Sean O'Donnell   Consumer  United States   \n",
       "4  Standard Class    SO-20335   Sean O'Donnell   Consumer  United States   \n",
       "\n",
       "              City       State  Postal Code Region       Product ID  \\\n",
       "0        Henderson    Kentucky        42420  South  FUR-BO-10001798   \n",
       "1        Henderson    Kentucky        42420  South  FUR-CH-10000454   \n",
       "2      Los Angeles  California        90036   West  OFF-LA-10000240   \n",
       "3  Fort Lauderdale     Florida        33311  South  FUR-TA-10000577   \n",
       "4  Fort Lauderdale     Florida        33311  South  OFF-ST-10000760   \n",
       "\n",
       "          Category Sub-Category  \\\n",
       "0        Furniture    Bookcases   \n",
       "1        Furniture       Chairs   \n",
       "2  Office Supplies       Labels   \n",
       "3        Furniture       Tables   \n",
       "4  Office Supplies      Storage   \n",
       "\n",
       "                                        Product Name     Sales  Quantity  \\\n",
       "0                  Bush Somerset Collection Bookcase  261.9600         2   \n",
       "1  Hon Deluxe Fabric Upholstered Stacking Chairs,...  731.9400         3   \n",
       "2  Self-Adhesive Address Labels for Typewriters b...   14.6200         2   \n",
       "3      Bretford CR4500 Series Slim Rectangular Table  957.5775         5   \n",
       "4                     Eldon Fold 'N Roll Cart System   22.3680         2   \n",
       "\n",
       "   Discount    Profit  \n",
       "0      0.00   41.9136  \n",
       "1      0.00  219.5820  \n",
       "2      0.00    6.8714  \n",
       "3      0.45 -383.0310  \n",
       "4      0.20    2.5164  "
      ]
     },
     "execution_count": 1,
     "metadata": {},
     "output_type": "execute_result"
    }
   ],
   "source": [
    "import numpy as np\n",
    "import pandas as pd\n",
    "import matplotlib.pyplot as plt\n",
    "import seaborn as sns\n",
    "sns.set()\n",
    "\n",
    "data = pd.read_excel('Axis+Superstore+Dataset(2)(1).xlsx')\n",
    "data.head()"
   ]
  },
  {
   "cell_type": "markdown",
   "metadata": {},
   "source": [
    "# **Exploring Data**"
   ]
  },
  {
   "cell_type": "code",
   "execution_count": 2,
   "metadata": {
    "execution": {
     "iopub.execute_input": "2021-11-26T08:54:49.250825Z",
     "iopub.status.busy": "2021-11-26T08:54:49.250592Z",
     "iopub.status.idle": "2021-11-26T08:54:49.277987Z",
     "shell.execute_reply": "2021-11-26T08:54:49.277151Z",
     "shell.execute_reply.started": "2021-11-26T08:54:49.250796Z"
    }
   },
   "outputs": [
    {
     "data": {
      "text/html": [
       "<div>\n",
       "<style scoped>\n",
       "    .dataframe tbody tr th:only-of-type {\n",
       "        vertical-align: middle;\n",
       "    }\n",
       "\n",
       "    .dataframe tbody tr th {\n",
       "        vertical-align: top;\n",
       "    }\n",
       "\n",
       "    .dataframe thead th {\n",
       "        text-align: right;\n",
       "    }\n",
       "</style>\n",
       "<table border=\"1\" class=\"dataframe\">\n",
       "  <thead>\n",
       "    <tr style=\"text-align: right;\">\n",
       "      <th></th>\n",
       "      <th>Postal Code</th>\n",
       "      <th>Sales</th>\n",
       "      <th>Quantity</th>\n",
       "      <th>Discount</th>\n",
       "      <th>Profit</th>\n",
       "    </tr>\n",
       "  </thead>\n",
       "  <tbody>\n",
       "    <tr>\n",
       "      <th>count</th>\n",
       "      <td>9994.000000</td>\n",
       "      <td>9994.000000</td>\n",
       "      <td>9994.000000</td>\n",
       "      <td>9994.000000</td>\n",
       "      <td>9994.000000</td>\n",
       "    </tr>\n",
       "    <tr>\n",
       "      <th>mean</th>\n",
       "      <td>55190.379428</td>\n",
       "      <td>229.858001</td>\n",
       "      <td>3.789574</td>\n",
       "      <td>0.156203</td>\n",
       "      <td>28.656896</td>\n",
       "    </tr>\n",
       "    <tr>\n",
       "      <th>std</th>\n",
       "      <td>32063.693350</td>\n",
       "      <td>623.245101</td>\n",
       "      <td>2.225110</td>\n",
       "      <td>0.206452</td>\n",
       "      <td>234.260108</td>\n",
       "    </tr>\n",
       "    <tr>\n",
       "      <th>min</th>\n",
       "      <td>1040.000000</td>\n",
       "      <td>0.444000</td>\n",
       "      <td>1.000000</td>\n",
       "      <td>0.000000</td>\n",
       "      <td>-6599.978000</td>\n",
       "    </tr>\n",
       "    <tr>\n",
       "      <th>25%</th>\n",
       "      <td>23223.000000</td>\n",
       "      <td>17.280000</td>\n",
       "      <td>2.000000</td>\n",
       "      <td>0.000000</td>\n",
       "      <td>1.728750</td>\n",
       "    </tr>\n",
       "    <tr>\n",
       "      <th>50%</th>\n",
       "      <td>56430.500000</td>\n",
       "      <td>54.490000</td>\n",
       "      <td>3.000000</td>\n",
       "      <td>0.200000</td>\n",
       "      <td>8.666500</td>\n",
       "    </tr>\n",
       "    <tr>\n",
       "      <th>75%</th>\n",
       "      <td>90008.000000</td>\n",
       "      <td>209.940000</td>\n",
       "      <td>5.000000</td>\n",
       "      <td>0.200000</td>\n",
       "      <td>29.364000</td>\n",
       "    </tr>\n",
       "    <tr>\n",
       "      <th>max</th>\n",
       "      <td>99301.000000</td>\n",
       "      <td>22638.480000</td>\n",
       "      <td>14.000000</td>\n",
       "      <td>0.800000</td>\n",
       "      <td>8399.976000</td>\n",
       "    </tr>\n",
       "  </tbody>\n",
       "</table>\n",
       "</div>"
      ],
      "text/plain": [
       "        Postal Code         Sales     Quantity     Discount       Profit\n",
       "count   9994.000000   9994.000000  9994.000000  9994.000000  9994.000000\n",
       "mean   55190.379428    229.858001     3.789574     0.156203    28.656896\n",
       "std    32063.693350    623.245101     2.225110     0.206452   234.260108\n",
       "min     1040.000000      0.444000     1.000000     0.000000 -6599.978000\n",
       "25%    23223.000000     17.280000     2.000000     0.000000     1.728750\n",
       "50%    56430.500000     54.490000     3.000000     0.200000     8.666500\n",
       "75%    90008.000000    209.940000     5.000000     0.200000    29.364000\n",
       "max    99301.000000  22638.480000    14.000000     0.800000  8399.976000"
      ]
     },
     "execution_count": 2,
     "metadata": {},
     "output_type": "execute_result"
    }
   ],
   "source": [
    "#summary of dataset\n",
    "data.describe()"
   ]
  },
  {
   "cell_type": "code",
   "execution_count": 3,
   "metadata": {
    "execution": {
     "iopub.execute_input": "2021-11-26T08:54:49.279389Z",
     "iopub.status.busy": "2021-11-26T08:54:49.279128Z",
     "iopub.status.idle": "2021-11-26T08:54:49.300942Z",
     "shell.execute_reply": "2021-11-26T08:54:49.300255Z",
     "shell.execute_reply.started": "2021-11-26T08:54:49.279357Z"
    }
   },
   "outputs": [
    {
     "name": "stdout",
     "output_type": "stream",
     "text": [
      "<class 'pandas.core.frame.DataFrame'>\n",
      "RangeIndex: 9994 entries, 0 to 9993\n",
      "Data columns (total 17 columns):\n",
      "Ship Mode        9994 non-null object\n",
      "Customer ID      9994 non-null object\n",
      "Customer Name    9994 non-null object\n",
      "Segment          9994 non-null object\n",
      "Country          9994 non-null object\n",
      "City             9994 non-null object\n",
      "State            9994 non-null object\n",
      "Postal Code      9994 non-null int64\n",
      "Region           9994 non-null object\n",
      "Product ID       9994 non-null object\n",
      "Category         9994 non-null object\n",
      "Sub-Category     9994 non-null object\n",
      "Product Name     9994 non-null object\n",
      "Sales            9994 non-null float64\n",
      "Quantity         9994 non-null int64\n",
      "Discount         9994 non-null float64\n",
      "Profit           9994 non-null float64\n",
      "dtypes: float64(3), int64(2), object(12)\n",
      "memory usage: 858.9+ KB\n"
     ]
    }
   ],
   "source": [
    "#checking for datatypes\n",
    "data.info()"
   ]
  },
  {
   "cell_type": "code",
   "execution_count": 4,
   "metadata": {
    "execution": {
     "iopub.execute_input": "2021-11-26T08:54:49.303034Z",
     "iopub.status.busy": "2021-11-26T08:54:49.302692Z",
     "iopub.status.idle": "2021-11-26T08:54:49.319356Z",
     "shell.execute_reply": "2021-11-26T08:54:49.318424Z",
     "shell.execute_reply.started": "2021-11-26T08:54:49.303005Z"
    }
   },
   "outputs": [
    {
     "data": {
      "text/plain": [
       "Ship Mode        0\n",
       "Customer ID      0\n",
       "Customer Name    0\n",
       "Segment          0\n",
       "Country          0\n",
       "City             0\n",
       "State            0\n",
       "Postal Code      0\n",
       "Region           0\n",
       "Product ID       0\n",
       "Category         0\n",
       "Sub-Category     0\n",
       "Product Name     0\n",
       "Sales            0\n",
       "Quantity         0\n",
       "Discount         0\n",
       "Profit           0\n",
       "dtype: int64"
      ]
     },
     "execution_count": 4,
     "metadata": {},
     "output_type": "execute_result"
    }
   ],
   "source": [
    "#checking for null values\n",
    "data.isnull().sum()"
   ]
  },
  {
   "cell_type": "markdown",
   "metadata": {},
   "source": [
    "* So there are no missing values.\n",
    "* There are 13 features in data, and 9994 rows."
   ]
  },
  {
   "cell_type": "markdown",
   "metadata": {},
   "source": [
    "# **Check for Duplicates**"
   ]
  },
  {
   "cell_type": "code",
   "execution_count": 5,
   "metadata": {
    "execution": {
     "iopub.execute_input": "2021-11-26T08:54:49.321452Z",
     "iopub.status.busy": "2021-11-26T08:54:49.321117Z",
     "iopub.status.idle": "2021-11-26T08:54:49.344473Z",
     "shell.execute_reply": "2021-11-26T08:54:49.343657Z",
     "shell.execute_reply.started": "2021-11-26T08:54:49.321408Z"
    }
   },
   "outputs": [
    {
     "data": {
      "text/plain": [
       "1"
      ]
     },
     "execution_count": 5,
     "metadata": {},
     "output_type": "execute_result"
    }
   ],
   "source": [
    "#no. of duplicated rows\n",
    "data.duplicated().sum()"
   ]
  },
  {
   "cell_type": "markdown",
   "metadata": {},
   "source": [
    "* 17 duplicated values are present which is 0.17% of data. So, it can be deleted."
   ]
  },
  {
   "cell_type": "code",
   "execution_count": 6,
   "metadata": {
    "execution": {
     "iopub.execute_input": "2021-11-26T08:54:49.346057Z",
     "iopub.status.busy": "2021-11-26T08:54:49.345803Z",
     "iopub.status.idle": "2021-11-26T08:54:49.364353Z",
     "shell.execute_reply": "2021-11-26T08:54:49.363397Z",
     "shell.execute_reply.started": "2021-11-26T08:54:49.346027Z"
    }
   },
   "outputs": [],
   "source": [
    "#drop duplicated values\n",
    "data=data.drop_duplicates()"
   ]
  },
  {
   "cell_type": "code",
   "execution_count": 7,
   "metadata": {
    "execution": {
     "iopub.execute_input": "2021-11-26T08:54:49.366151Z",
     "iopub.status.busy": "2021-11-26T08:54:49.365763Z",
     "iopub.status.idle": "2021-11-26T08:54:49.393012Z",
     "shell.execute_reply": "2021-11-26T08:54:49.392146Z",
     "shell.execute_reply.started": "2021-11-26T08:54:49.366114Z"
    }
   },
   "outputs": [
    {
     "data": {
      "text/html": [
       "<div>\n",
       "<style scoped>\n",
       "    .dataframe tbody tr th:only-of-type {\n",
       "        vertical-align: middle;\n",
       "    }\n",
       "\n",
       "    .dataframe tbody tr th {\n",
       "        vertical-align: top;\n",
       "    }\n",
       "\n",
       "    .dataframe thead th {\n",
       "        text-align: right;\n",
       "    }\n",
       "</style>\n",
       "<table border=\"1\" class=\"dataframe\">\n",
       "  <thead>\n",
       "    <tr style=\"text-align: right;\">\n",
       "      <th></th>\n",
       "      <th>Postal Code</th>\n",
       "      <th>Sales</th>\n",
       "      <th>Quantity</th>\n",
       "      <th>Discount</th>\n",
       "      <th>Profit</th>\n",
       "    </tr>\n",
       "  </thead>\n",
       "  <tbody>\n",
       "    <tr>\n",
       "      <th>count</th>\n",
       "      <td>9993.000000</td>\n",
       "      <td>9993.000000</td>\n",
       "      <td>9993.000000</td>\n",
       "      <td>9993.000000</td>\n",
       "      <td>9993.000000</td>\n",
       "    </tr>\n",
       "    <tr>\n",
       "      <th>mean</th>\n",
       "      <td>55191.576403</td>\n",
       "      <td>229.852846</td>\n",
       "      <td>3.789753</td>\n",
       "      <td>0.156188</td>\n",
       "      <td>28.660971</td>\n",
       "    </tr>\n",
       "    <tr>\n",
       "      <th>std</th>\n",
       "      <td>32065.074478</td>\n",
       "      <td>623.276074</td>\n",
       "      <td>2.225149</td>\n",
       "      <td>0.206457</td>\n",
       "      <td>234.271476</td>\n",
       "    </tr>\n",
       "    <tr>\n",
       "      <th>min</th>\n",
       "      <td>1040.000000</td>\n",
       "      <td>0.444000</td>\n",
       "      <td>1.000000</td>\n",
       "      <td>0.000000</td>\n",
       "      <td>-6599.978000</td>\n",
       "    </tr>\n",
       "    <tr>\n",
       "      <th>25%</th>\n",
       "      <td>23223.000000</td>\n",
       "      <td>17.280000</td>\n",
       "      <td>2.000000</td>\n",
       "      <td>0.000000</td>\n",
       "      <td>1.731000</td>\n",
       "    </tr>\n",
       "    <tr>\n",
       "      <th>50%</th>\n",
       "      <td>56560.000000</td>\n",
       "      <td>54.480000</td>\n",
       "      <td>3.000000</td>\n",
       "      <td>0.200000</td>\n",
       "      <td>8.671000</td>\n",
       "    </tr>\n",
       "    <tr>\n",
       "      <th>75%</th>\n",
       "      <td>90008.000000</td>\n",
       "      <td>209.940000</td>\n",
       "      <td>5.000000</td>\n",
       "      <td>0.200000</td>\n",
       "      <td>29.364000</td>\n",
       "    </tr>\n",
       "    <tr>\n",
       "      <th>max</th>\n",
       "      <td>99301.000000</td>\n",
       "      <td>22638.480000</td>\n",
       "      <td>14.000000</td>\n",
       "      <td>0.800000</td>\n",
       "      <td>8399.976000</td>\n",
       "    </tr>\n",
       "  </tbody>\n",
       "</table>\n",
       "</div>"
      ],
      "text/plain": [
       "        Postal Code         Sales     Quantity     Discount       Profit\n",
       "count   9993.000000   9993.000000  9993.000000  9993.000000  9993.000000\n",
       "mean   55191.576403    229.852846     3.789753     0.156188    28.660971\n",
       "std    32065.074478    623.276074     2.225149     0.206457   234.271476\n",
       "min     1040.000000      0.444000     1.000000     0.000000 -6599.978000\n",
       "25%    23223.000000     17.280000     2.000000     0.000000     1.731000\n",
       "50%    56560.000000     54.480000     3.000000     0.200000     8.671000\n",
       "75%    90008.000000    209.940000     5.000000     0.200000    29.364000\n",
       "max    99301.000000  22638.480000    14.000000     0.800000  8399.976000"
      ]
     },
     "execution_count": 7,
     "metadata": {},
     "output_type": "execute_result"
    }
   ],
   "source": [
    "#Summary of dataset after dropping duplicates\n",
    "data.describe()"
   ]
  },
  {
   "cell_type": "markdown",
   "metadata": {},
   "source": [
    "* Now there are 9977 rows in the dataset"
   ]
  },
  {
   "cell_type": "code",
   "execution_count": 8,
   "metadata": {
    "execution": {
     "iopub.execute_input": "2021-11-26T08:54:49.395036Z",
     "iopub.status.busy": "2021-11-26T08:54:49.394800Z",
     "iopub.status.idle": "2021-11-26T08:54:49.412405Z",
     "shell.execute_reply": "2021-11-26T08:54:49.411637Z",
     "shell.execute_reply.started": "2021-11-26T08:54:49.395006Z"
    }
   },
   "outputs": [
    {
     "data": {
      "text/plain": [
       "Ship Mode           4\n",
       "Customer ID       793\n",
       "Customer Name     793\n",
       "Segment             3\n",
       "Country             1\n",
       "City              531\n",
       "State              49\n",
       "Postal Code       631\n",
       "Region              4\n",
       "Product ID       1862\n",
       "Category            3\n",
       "Sub-Category       17\n",
       "Product Name     1850\n",
       "Sales            6144\n",
       "Quantity           14\n",
       "Discount           12\n",
       "Profit           7545\n",
       "dtype: int64"
      ]
     },
     "execution_count": 8,
     "metadata": {},
     "output_type": "execute_result"
    }
   ],
   "source": [
    "#unique no. of rows in each columns\n",
    "data.nunique()"
   ]
  },
  {
   "cell_type": "markdown",
   "metadata": {},
   "source": [
    "* The data is only for 1 country. We can remove the country column.\n",
    "* Our data covers the details of sales of 49 states, 531 cities divided in 4 different regions."
   ]
  },
  {
   "cell_type": "code",
   "execution_count": 9,
   "metadata": {
    "execution": {
     "iopub.execute_input": "2021-11-26T08:54:49.413749Z",
     "iopub.status.busy": "2021-11-26T08:54:49.413520Z",
     "iopub.status.idle": "2021-11-26T08:54:49.420153Z",
     "shell.execute_reply": "2021-11-26T08:54:49.419028Z",
     "shell.execute_reply.started": "2021-11-26T08:54:49.413721Z"
    }
   },
   "outputs": [],
   "source": [
    "#dropping unnecessary columns\n",
    "data= data.drop('Country', axis=1)"
   ]
  },
  {
   "cell_type": "markdown",
   "metadata": {},
   "source": [
    "# **Exploring city, state, postal code, and region**"
   ]
  },
  {
   "cell_type": "markdown",
   "metadata": {},
   "source": [
    "Every city has different Postal Codes, So we should drop one of the two columns."
   ]
  },
  {
   "cell_type": "code",
   "execution_count": 10,
   "metadata": {
    "execution": {
     "iopub.execute_input": "2021-11-26T08:54:49.421521Z",
     "iopub.status.busy": "2021-11-26T08:54:49.421252Z",
     "iopub.status.idle": "2021-11-26T08:54:49.450307Z",
     "shell.execute_reply": "2021-11-26T08:54:49.449424Z",
     "shell.execute_reply.started": "2021-11-26T08:54:49.421491Z"
    }
   },
   "outputs": [
    {
     "name": "stdout",
     "output_type": "stream",
     "text": [
      "<class 'pandas.core.frame.DataFrame'>\n",
      "Int64Index: 9993 entries, 0 to 9993\n",
      "Data columns (total 15 columns):\n",
      "Ship Mode        9993 non-null object\n",
      "Customer ID      9993 non-null object\n",
      "Customer Name    9993 non-null object\n",
      "Segment          9993 non-null object\n",
      "City             9993 non-null object\n",
      "State            9993 non-null object\n",
      "Region           9993 non-null object\n",
      "Product ID       9993 non-null object\n",
      "Category         9993 non-null object\n",
      "Sub-Category     9993 non-null object\n",
      "Product Name     9993 non-null object\n",
      "Sales            9993 non-null float64\n",
      "Quantity         9993 non-null int64\n",
      "Discount         9993 non-null float64\n",
      "Profit           9993 non-null float64\n",
      "dtypes: float64(3), int64(1), object(11)\n",
      "memory usage: 819.7+ KB\n"
     ]
    }
   ],
   "source": [
    "#saving data in new variable after dropping postal code\n",
    "new_data = data.drop('Postal Code' , axis=1)\n",
    "\n",
    "new_data.info()"
   ]
  },
  {
   "cell_type": "markdown",
   "metadata": {},
   "source": [
    "# **Checking Region**"
   ]
  },
  {
   "cell_type": "code",
   "execution_count": 11,
   "metadata": {
    "execution": {
     "iopub.execute_input": "2021-11-26T08:54:49.452117Z",
     "iopub.status.busy": "2021-11-26T08:54:49.451534Z",
     "iopub.status.idle": "2021-11-26T08:54:49.461705Z",
     "shell.execute_reply": "2021-11-26T08:54:49.460869Z",
     "shell.execute_reply.started": "2021-11-26T08:54:49.452080Z"
    }
   },
   "outputs": [
    {
     "data": {
      "text/plain": [
       "array(['South', 'West', 'Central', 'East'], dtype=object)"
      ]
     },
     "execution_count": 11,
     "metadata": {},
     "output_type": "execute_result"
    }
   ],
   "source": [
    "#Unique no. of regions\n",
    "new_data['Region'].unique()"
   ]
  },
  {
   "cell_type": "markdown",
   "metadata": {},
   "source": [
    "There are only four regions. Looking at the data, we can see that we have three categorical variables, which are basically related.\n",
    "* City :- Having the most number of unique values\n",
    "* State :- Having number of unique values less than city\n",
    "* Region :- Only four unique values"
   ]
  },
  {
   "cell_type": "markdown",
   "metadata": {},
   "source": [
    "# **Checking Sub-category & Category**"
   ]
  },
  {
   "cell_type": "code",
   "execution_count": 12,
   "metadata": {
    "execution": {
     "iopub.execute_input": "2021-11-26T08:54:50.259685Z",
     "iopub.status.busy": "2021-11-26T08:54:50.259207Z",
     "iopub.status.idle": "2021-11-26T08:54:50.266928Z",
     "shell.execute_reply": "2021-11-26T08:54:50.266358Z",
     "shell.execute_reply.started": "2021-11-26T08:54:50.259643Z"
    }
   },
   "outputs": [
    {
     "name": "stdout",
     "output_type": "stream",
     "text": [
      "['Bookcases' 'Chairs' 'Labels' 'Tables' 'Storage' 'Furnishings' 'Art'\n",
      " 'Phones' 'Binders' 'Appliances' 'Paper' 'Accessories' 'Envelopes'\n",
      " 'Fasteners' 'Supplies' 'Machines' 'Copiers']\n",
      "['Furniture' 'Office Supplies' 'Technology']\n"
     ]
    }
   ],
   "source": [
    "#Comparing values in category, and subcategory\n",
    "print(new_data['Sub-Category'].unique())\n",
    "print(new_data['Category'].unique())"
   ]
  },
  {
   "cell_type": "markdown",
   "metadata": {},
   "source": [
    "# **Correlation Check**"
   ]
  },
  {
   "cell_type": "code",
   "execution_count": 13,
   "metadata": {
    "execution": {
     "iopub.execute_input": "2021-11-26T08:54:50.326010Z",
     "iopub.status.busy": "2021-11-26T08:54:50.325529Z",
     "iopub.status.idle": "2021-11-26T08:54:50.338559Z",
     "shell.execute_reply": "2021-11-26T08:54:50.337717Z",
     "shell.execute_reply.started": "2021-11-26T08:54:50.325939Z"
    }
   },
   "outputs": [
    {
     "data": {
      "text/html": [
       "<div>\n",
       "<style scoped>\n",
       "    .dataframe tbody tr th:only-of-type {\n",
       "        vertical-align: middle;\n",
       "    }\n",
       "\n",
       "    .dataframe tbody tr th {\n",
       "        vertical-align: top;\n",
       "    }\n",
       "\n",
       "    .dataframe thead th {\n",
       "        text-align: right;\n",
       "    }\n",
       "</style>\n",
       "<table border=\"1\" class=\"dataframe\">\n",
       "  <thead>\n",
       "    <tr style=\"text-align: right;\">\n",
       "      <th></th>\n",
       "      <th>Sales</th>\n",
       "      <th>Quantity</th>\n",
       "      <th>Discount</th>\n",
       "      <th>Profit</th>\n",
       "    </tr>\n",
       "  </thead>\n",
       "  <tbody>\n",
       "    <tr>\n",
       "      <th>Sales</th>\n",
       "      <td>1.000000</td>\n",
       "      <td>0.200808</td>\n",
       "      <td>-0.028197</td>\n",
       "      <td>0.479067</td>\n",
       "    </tr>\n",
       "    <tr>\n",
       "      <th>Quantity</th>\n",
       "      <td>0.200808</td>\n",
       "      <td>1.000000</td>\n",
       "      <td>0.008680</td>\n",
       "      <td>0.066241</td>\n",
       "    </tr>\n",
       "    <tr>\n",
       "      <th>Discount</th>\n",
       "      <td>-0.028197</td>\n",
       "      <td>0.008680</td>\n",
       "      <td>1.000000</td>\n",
       "      <td>-0.219481</td>\n",
       "    </tr>\n",
       "    <tr>\n",
       "      <th>Profit</th>\n",
       "      <td>0.479067</td>\n",
       "      <td>0.066241</td>\n",
       "      <td>-0.219481</td>\n",
       "      <td>1.000000</td>\n",
       "    </tr>\n",
       "  </tbody>\n",
       "</table>\n",
       "</div>"
      ],
      "text/plain": [
       "             Sales  Quantity  Discount    Profit\n",
       "Sales     1.000000  0.200808 -0.028197  0.479067\n",
       "Quantity  0.200808  1.000000  0.008680  0.066241\n",
       "Discount -0.028197  0.008680  1.000000 -0.219481\n",
       "Profit    0.479067  0.066241 -0.219481  1.000000"
      ]
     },
     "execution_count": 13,
     "metadata": {},
     "output_type": "execute_result"
    }
   ],
   "source": [
    "attributes = ['Sales','Quantity','Discount','Profit']\n",
    "corr_mat = new_data.corr()\n",
    "corr_mat"
   ]
  },
  {
   "cell_type": "code",
   "execution_count": 14,
   "metadata": {
    "execution": {
     "iopub.execute_input": "2021-11-26T08:54:50.340990Z",
     "iopub.status.busy": "2021-11-26T08:54:50.340639Z",
     "iopub.status.idle": "2021-11-26T08:54:50.630869Z",
     "shell.execute_reply": "2021-11-26T08:54:50.629917Z",
     "shell.execute_reply.started": "2021-11-26T08:54:50.340959Z"
    }
   },
   "outputs": [
    {
     "data": {
      "image/png": "[encoded data removed]",
      "text/plain": [
       "<Figure size 864x648 with 2 Axes>"
      ]
     },
     "metadata": {
      "needs_background": "light"
     },
     "output_type": "display_data"
    }
   ],
   "source": [
    "#plotting correlation matrix\n",
    "plt.subplots(figsize=(12,9))\n",
    "sns.heatmap(corr_mat,annot=True)\n",
    "plt.show()"
   ]
  },
  {
   "cell_type": "code",
   "execution_count": 15,
   "metadata": {
    "execution": {
     "iopub.execute_input": "2021-11-26T08:54:50.632786Z",
     "iopub.status.busy": "2021-11-26T08:54:50.632486Z",
     "iopub.status.idle": "2021-11-26T08:56:31.106933Z",
     "shell.execute_reply": "2021-11-26T08:56:31.106028Z",
     "shell.execute_reply.started": "2021-11-26T08:54:50.632753Z"
    }
   },
   "outputs": [
    {
     "data": {
      "text/plain": [
       "<seaborn.axisgrid.PairGrid at 0x88165d0>"
      ]
     },
     "execution_count": 15,
     "metadata": {},
     "output_type": "execute_result"
    },
    {
     "data": {
      "image/png": "[encoded data removed]",
      "text/plain": [
       "<Figure size 795.35x720 with 20 Axes>"
      ]
     },
     "metadata": {
      "needs_background": "light"
     },
     "output_type": "display_data"
    }
   ],
   "source": [
    "#plotting pair plot (Region wise)\n",
    "sns.pairplot(new_data, hue='Region' , diag_kind=\"hist\")"
   ]
  },
  {
   "cell_type": "markdown",
   "metadata": {},
   "source": [
    "# **It seems Profit is highly correlated with Sales.**\n",
    "**Sales v/s Profit**"
   ]
  },
  {
   "cell_type": "code",
   "execution_count": 16,
   "metadata": {
    "execution": {
     "iopub.execute_input": "2021-11-26T08:56:31.108521Z",
     "iopub.status.busy": "2021-11-26T08:56:31.108195Z",
     "iopub.status.idle": "2021-11-26T08:56:31.395973Z",
     "shell.execute_reply": "2021-11-26T08:56:31.394714Z",
     "shell.execute_reply.started": "2021-11-26T08:56:31.108491Z"
    }
   },
   "outputs": [
    {
     "data": {
      "image/png": "[encoded data removed]",
      "text/plain": [
       "<Figure size 432x288 with 1 Axes>"
      ]
     },
     "metadata": {
      "needs_background": "light"
     },
     "output_type": "display_data"
    }
   ],
   "source": [
    "#scatter plot\n",
    "plt.scatter(data['Sales'],data['Profit'])\n",
    "plt.xlabel('Sales')\n",
    "plt.ylabel('Profit')\n",
    "plt.title('Sales v/s Profit')\n",
    "plt.show()"
   ]
  },
  {
   "cell_type": "markdown",
   "metadata": {},
   "source": [
    "At lower sales, a business either gets profit or loss. But, when the sales are high, a business mostly gets profit.\n",
    "\n",
    "**Profit to Sales Ratio**"
   ]
  },
  {
   "cell_type": "code",
   "execution_count": 17,
   "metadata": {
    "execution": {
     "iopub.execute_input": "2021-11-26T08:56:31.398127Z",
     "iopub.status.busy": "2021-11-26T08:56:31.397901Z",
     "iopub.status.idle": "2021-11-26T08:56:31.419128Z",
     "shell.execute_reply": "2021-11-26T08:56:31.418261Z",
     "shell.execute_reply.started": "2021-11-26T08:56:31.398099Z"
    }
   },
   "outputs": [
    {
     "name": "stdout",
     "output_type": "stream",
     "text": [
      "Highest 10 Ratios :\n",
      "\n",
      "                          Sales      Profit  Profit_to_sales\n",
      "State                                                       \n",
      "District of Columbia   2865.020   1059.5893         0.369837\n",
      "Delaware              27451.069   9977.3748         0.363460\n",
      "Minnesota             29863.150  10823.1874         0.362426\n",
      "Maine                  1270.530    454.4862         0.357714\n",
      "Arkansas              11678.130   4008.6871         0.343264\n",
      "Indiana               53555.360  18382.9363         0.343251\n",
      "Georgia               49095.840  16250.0433         0.330986\n",
      "Montana                5589.352   1833.3285         0.328004\n",
      "Rhode Island          22627.956   7285.6293         0.321975\n",
      "Michigan              76269.614  24463.1876         0.320746\n",
      "======================================================================\n",
      "Lowest 10 Ratios:\n",
      "\n",
      "                      Sales      Profit  Profit_to_sales\n",
      "State                                                   \n",
      "Florida          89473.7080  -3399.3017        -0.037992\n",
      "Oregon           17431.1500  -1190.4705        -0.068296\n",
      "Arizona          35282.0010  -3427.9246        -0.097158\n",
      "Pennsylvania    116511.9140 -15559.9603        -0.133548\n",
      "North Carolina   55603.1640  -7490.9122        -0.134721\n",
      "Texas           170188.0458 -25729.3563        -0.151182\n",
      "Illinois         80166.1010 -12607.8870        -0.157272\n",
      "Tennessee        30661.8730  -5341.6936        -0.174213\n",
      "Colorado         32108.1180  -6527.8579        -0.203309\n",
      "Ohio             77976.7640 -16959.3178        -0.217492\n"
     ]
    }
   ],
   "source": [
    "#plotting profit v/s sales statewise\n",
    "profit_to_sales = pd.DataFrame(new_data.groupby('State').sum()[['Sales','Profit']])\n",
    "profit_to_sales['Profit_to_sales'] = profit_to_sales['Profit']/profit_to_sales['Sales']\n",
    "profit_to_sales.sort_values(by='Profit_to_sales',inplace = True, ascending = False)\n",
    "print(\"Highest 10 Ratios :\\n\")\n",
    "print(profit_to_sales[:10])\n",
    "print('='*70)\n",
    "print(\"Lowest 10 Ratios:\\n\")\n",
    "print(profit_to_sales[-10:])"
   ]
  },
  {
   "cell_type": "markdown",
   "metadata": {},
   "source": [
    "* Ohio has the worst profit to sales ratio.\n",
    "* District of Columbia has the highest profit to sales ratio.\n",
    "* The states California , New York doesn't come in the list of top 10 states with highest profit to sales ratio that means there is still some room for improvement."
   ]
  },
  {
   "cell_type": "markdown",
   "metadata": {},
   "source": [
    "# **Region-wise Analysis**"
   ]
  },
  {
   "cell_type": "code",
   "execution_count": 18,
   "metadata": {
    "execution": {
     "iopub.execute_input": "2021-11-26T08:56:31.420716Z",
     "iopub.status.busy": "2021-11-26T08:56:31.420510Z",
     "iopub.status.idle": "2021-11-26T08:56:31.708335Z",
     "shell.execute_reply": "2021-11-26T08:56:31.707486Z",
     "shell.execute_reply.started": "2021-11-26T08:56:31.420689Z"
    }
   },
   "outputs": [
    {
     "data": {
      "text/plain": [
       "<matplotlib.axes._subplots.AxesSubplot at 0x8958290>"
      ]
     },
     "execution_count": 18,
     "metadata": {},
     "output_type": "execute_result"
    },
    {
     "data": {
      "image/png": "[encoded data removed]",
      "text/plain": [
       "<Figure size 432x288 with 1 Axes>"
      ]
     },
     "metadata": {
      "needs_background": "light"
     },
     "output_type": "display_data"
    }
   ],
   "source": [
    "pd.DataFrame(new_data.groupby('Region').sum()[['Sales','Profit']]).plot(kind='bar')"
   ]
  },
  {
   "cell_type": "markdown",
   "metadata": {},
   "source": [
    "* Western & Eastern regions have shown higher sales and profits as compared to the Southern and central regions.\n",
    "* Central region has higher sales than the Southern region but it has shown lower profit gains between the two of them."
   ]
  },
  {
   "cell_type": "markdown",
   "metadata": {},
   "source": [
    "# **State-wise Analysis**"
   ]
  },
  {
   "cell_type": "code",
   "execution_count": 19,
   "metadata": {
    "execution": {
     "iopub.execute_input": "2021-11-26T08:56:31.709497Z",
     "iopub.status.busy": "2021-11-26T08:56:31.709286Z",
     "iopub.status.idle": "2021-11-26T08:56:31.728394Z",
     "shell.execute_reply": "2021-11-26T08:56:31.727581Z",
     "shell.execute_reply.started": "2021-11-26T08:56:31.709471Z"
    }
   },
   "outputs": [
    {
     "data": {
      "text/plain": [
       "State\n",
       "California        2001\n",
       "New York          1128\n",
       "Texas              985\n",
       "Pennsylvania       587\n",
       "Washington         506\n",
       "Illinois           492\n",
       "Ohio               468\n",
       "Florida            383\n",
       "Michigan           255\n",
       "North Carolina     249\n",
       "Name: Quantity, dtype: int64"
      ]
     },
     "execution_count": 19,
     "metadata": {},
     "output_type": "execute_result"
    }
   ],
   "source": [
    "#Top 10 states with maximum number of items sold\n",
    "new_data.groupby('State').count()['Quantity'].sort_values(ascending= False)[:10]"
   ]
  },
  {
   "cell_type": "code",
   "execution_count": 20,
   "metadata": {
    "execution": {
     "iopub.execute_input": "2021-11-26T08:57:37.953944Z",
     "iopub.status.busy": "2021-11-26T08:57:37.953647Z",
     "iopub.status.idle": "2021-11-26T08:57:37.974280Z",
     "shell.execute_reply": "2021-11-26T08:57:37.973720Z",
     "shell.execute_reply.started": "2021-11-26T08:57:37.953910Z"
    }
   },
   "outputs": [
    {
     "data": {
      "text/plain": [
       "State\n",
       "Wyoming                  1\n",
       "West Virginia            4\n",
       "North Dakota             7\n",
       "Maine                    8\n",
       "District of Columbia    10\n",
       "Vermont                 11\n",
       "South Dakota            12\n",
       "Montana                 15\n",
       "Idaho                   21\n",
       "Kansas                  24\n",
       "Name: Quantity, dtype: int64"
      ]
     },
     "execution_count": 20,
     "metadata": {},
     "output_type": "execute_result"
    }
   ],
   "source": [
    "#Top 10 states with minimum number of items sold\n",
    "new_data.groupby('State').count()['Quantity'].sort_values()[:10]"
   ]
  },
  {
   "cell_type": "code",
   "execution_count": 21,
   "metadata": {
    "execution": {
     "iopub.execute_input": "2021-11-26T09:21:53.282870Z",
     "iopub.status.busy": "2021-11-26T09:21:53.282603Z",
     "iopub.status.idle": "2021-11-26T09:21:53.301106Z",
     "shell.execute_reply": "2021-11-26T09:21:53.300359Z",
     "shell.execute_reply.started": "2021-11-26T09:21:53.282841Z"
    }
   },
   "outputs": [
    {
     "data": {
      "text/html": [
       "<div>\n",
       "<style scoped>\n",
       "    .dataframe tbody tr th:only-of-type {\n",
       "        vertical-align: middle;\n",
       "    }\n",
       "\n",
       "    .dataframe tbody tr th {\n",
       "        vertical-align: top;\n",
       "    }\n",
       "\n",
       "    .dataframe thead th {\n",
       "        text-align: right;\n",
       "    }\n",
       "</style>\n",
       "<table border=\"1\" class=\"dataframe\">\n",
       "  <thead>\n",
       "    <tr style=\"text-align: right;\">\n",
       "      <th></th>\n",
       "      <th>State</th>\n",
       "      <th>Sales</th>\n",
       "    </tr>\n",
       "  </thead>\n",
       "  <tbody>\n",
       "    <tr>\n",
       "      <th>0</th>\n",
       "      <td>California</td>\n",
       "      <td>457687.6315</td>\n",
       "    </tr>\n",
       "    <tr>\n",
       "      <th>1</th>\n",
       "      <td>New York</td>\n",
       "      <td>310876.2710</td>\n",
       "    </tr>\n",
       "    <tr>\n",
       "      <th>2</th>\n",
       "      <td>Texas</td>\n",
       "      <td>170188.0458</td>\n",
       "    </tr>\n",
       "    <tr>\n",
       "      <th>3</th>\n",
       "      <td>Washington</td>\n",
       "      <td>138641.2700</td>\n",
       "    </tr>\n",
       "    <tr>\n",
       "      <th>4</th>\n",
       "      <td>Pennsylvania</td>\n",
       "      <td>116511.9140</td>\n",
       "    </tr>\n",
       "  </tbody>\n",
       "</table>\n",
       "</div>"
      ],
      "text/plain": [
       "          State        Sales\n",
       "0    California  457687.6315\n",
       "1      New York  310876.2710\n",
       "2         Texas  170188.0458\n",
       "3    Washington  138641.2700\n",
       "4  Pennsylvania  116511.9140"
      ]
     },
     "execution_count": 21,
     "metadata": {},
     "output_type": "execute_result"
    }
   ],
   "source": [
    "#total statewise sales in descending order\n",
    "state_wise_sales = pd.DataFrame(new_data.groupby('State').sum()['Sales']).sort_values(by ='Sales',ascending= False)\n",
    "state_wise_sales.reset_index(inplace=True)\n",
    "state_wise_sales.head()"
   ]
  },
  {
   "cell_type": "code",
   "execution_count": 32,
   "metadata": {},
   "outputs": [],
   "source": [
    "#Visualization : Number of orders for each Ship Mode"
   ]
  },
  {
   "cell_type": "code",
   "execution_count": 28,
   "metadata": {},
   "outputs": [
    {
     "data": {
      "text/plain": [
       "<matplotlib.axes._subplots.AxesSubplot at 0xa709eb0>"
      ]
     },
     "execution_count": 28,
     "metadata": {},
     "output_type": "execute_result"
    },
    {
     "data": {
      "image/png": "[encoded data removed]",
      "text/plain": [
       "<Figure size 432x288 with 1 Axes>"
      ]
     },
     "metadata": {
      "needs_background": "light"
     },
     "output_type": "display_data"
    }
   ],
   "source": [
    "plt.title(\"Number of orders for each Ship Mode\")\n",
    "sns.countplot(x=\"Ship Mode\",data=data,label=\"count\")"
   ]
  },
  {
   "cell_type": "code",
   "execution_count": 31,
   "metadata": {},
   "outputs": [],
   "source": [
    "#Visualization : Ship mode and their sales"
   ]
  },
  {
   "cell_type": "code",
   "execution_count": 30,
   "metadata": {},
   "outputs": [
    {
     "name": "stderr",
     "output_type": "stream",
     "text": [
      "C:\\Users\\PC\\Anaconda3\\lib\\site-packages\\scipy\\stats\\stats.py:1713: FutureWarning: Using a non-tuple sequence for multidimensional indexing is deprecated; use `arr[tuple(seq)]` instead of `arr[seq]`. In the future this will be interpreted as an array index, `arr[np.array(seq)]`, which will result either in an error or a different result.\n",
      "  return np.add.reduce(sorted[indexer] * weights, axis=axis) / sumval\n"
     ]
    },
    {
     "data": {
      "text/plain": [
       "<matplotlib.axes._subplots.AxesSubplot at 0x8851cb0>"
      ]
     },
     "execution_count": 30,
     "metadata": {},
     "output_type": "execute_result"
    },
    {
     "data": {
      "image/png": "[encoded data removed]",
      "text/plain": [
       "<Figure size 432x288 with 1 Axes>"
      ]
     },
     "metadata": {
      "needs_background": "light"
     },
     "output_type": "display_data"
    }
   ],
   "source": [
    "plt.title(\"Ship mode and their sales\")\n",
    "sns.barplot(x=\"Ship Mode\",y=\"Sales\",data=data)"
   ]
  },
  {
   "cell_type": "code",
   "execution_count": 22,
   "metadata": {
    "execution": {
     "iopub.execute_input": "2021-11-26T09:30:16.460480Z",
     "iopub.status.busy": "2021-11-26T09:30:16.459905Z",
     "iopub.status.idle": "2021-11-26T09:30:16.472198Z",
     "shell.execute_reply": "2021-11-26T09:30:16.471516Z",
     "shell.execute_reply.started": "2021-11-26T09:30:16.460425Z"
    }
   },
   "outputs": [
    {
     "name": "stdout",
     "output_type": "stream",
     "text": [
      "States with maximum amount of sales:\n",
      "           State        Sales\n",
      "0    California  457687.6315\n",
      "1      New York  310876.2710\n",
      "2         Texas  170188.0458\n",
      "3    Washington  138641.2700\n",
      "4  Pennsylvania  116511.9140\n",
      "5       Florida   89473.7080\n",
      "6      Illinois   80166.1010\n",
      "7          Ohio   77976.7640\n",
      "8      Michigan   76269.6140\n",
      "9      Virginia   70636.7200\n",
      "\n",
      " ================================================== \n",
      "\n",
      "States with minimum amount of sales:\n",
      "                    State     Sales\n",
      "39            New Mexico  4783.522\n",
      "40                  Iowa  4579.760\n",
      "41                 Idaho  4382.486\n",
      "42                Kansas  2914.310\n",
      "43  District of Columbia  2865.020\n",
      "44               Wyoming  1603.136\n",
      "45          South Dakota  1315.560\n",
      "46                 Maine  1270.530\n",
      "47         West Virginia  1209.824\n",
      "48          North Dakota   919.910\n"
     ]
    }
   ],
   "source": [
    "# Top 10 stores with maximum amount of sales\n",
    "print('States with maximum amount of sales:\\n',state_wise_sales[:10])\n",
    "\n",
    "print('\\n','='*50, '\\n')\n",
    "\n",
    "# Stores with minimum amount of sales\n",
    "print('States with minimum amount of sales:\\n',state_wise_sales[-10:])"
   ]
  },
  {
   "cell_type": "markdown",
   "metadata": {},
   "source": [
    "* The company needs to focus more on these 10 states that have least amount of sales."
   ]
  },
  {
   "cell_type": "code",
   "execution_count": 23,
   "metadata": {
    "execution": {
     "iopub.execute_input": "2021-11-26T09:34:03.463285Z",
     "iopub.status.busy": "2021-11-26T09:34:03.462336Z",
     "iopub.status.idle": "2021-11-26T09:34:03.485632Z",
     "shell.execute_reply": "2021-11-26T09:34:03.484611Z",
     "shell.execute_reply.started": "2021-11-26T09:34:03.463235Z"
    }
   },
   "outputs": [
    {
     "name": "stdout",
     "output_type": "stream",
     "text": [
      "States with maximum amount of profit:\n",
      " State\n",
      "California    76381.3871\n",
      "New York      74038.5486\n",
      "Washington    33402.6517\n",
      "Michigan      24463.1876\n",
      "Virginia      18597.9504\n",
      "Indiana       18382.9363\n",
      "Georgia       16250.0433\n",
      "Kentucky      11199.6966\n",
      "Minnesota     10823.1874\n",
      "Delaware       9977.3748\n",
      "Name: Profit, dtype: float64\n",
      "\n",
      " ================================================== \n",
      "\n",
      "States with minimum amount of profit:\n",
      " State\n",
      "Texas            -25729.3563\n",
      "Ohio             -16959.3178\n",
      "Pennsylvania     -15559.9603\n",
      "Illinois         -12607.8870\n",
      "North Carolina    -7490.9122\n",
      "Colorado          -6527.8579\n",
      "Tennessee         -5341.6936\n",
      "Arizona           -3427.9246\n",
      "Florida           -3399.3017\n",
      "Oregon            -1190.4705\n",
      "Name: Profit, dtype: float64\n"
     ]
    }
   ],
   "source": [
    "# Top 10 states with maximum amount of profit\n",
    "print('States with maximum amount of profit:\\n',new_data.groupby('State').sum()['Profit'].sort_values(ascending= False)[:10])\n",
    "\n",
    "print('\\n','='*50, '\\n')\n",
    "\n",
    "# States with minimum amount of profit\n",
    "print('States with minimum amount of profit:\\n',new_data.groupby('State').sum()['Profit'].sort_values()[:10])"
   ]
  },
  {
   "cell_type": "markdown",
   "metadata": {},
   "source": [
    "* Company must focus on cities which made loss.\n",
    "* They should analyse their resource usage and the categories which are being sold in those states."
   ]
  },
  {
   "cell_type": "code",
   "execution_count": 24,
   "metadata": {
    "execution": {
     "iopub.execute_input": "2021-11-26T09:48:41.589264Z",
     "iopub.status.busy": "2021-11-26T09:48:41.588290Z",
     "iopub.status.idle": "2021-11-26T09:48:41.633409Z",
     "shell.execute_reply": "2021-11-26T09:48:41.632525Z",
     "shell.execute_reply.started": "2021-11-26T09:48:41.589145Z"
    }
   },
   "outputs": [],
   "source": [
    "#new dataframe having states and regions\n",
    "state_region = new_data[['State','Region']]\n",
    "\n",
    "#drop duplicated values\n",
    "state_region = state_region.drop_duplicates()\n",
    "state_region\n",
    "\n",
    "#adding region column to state_wise_sales dataframe\n",
    "state_wise_sales = pd.merge(state_wise_sales, state_region)"
   ]
  },
  {
   "cell_type": "code",
   "execution_count": 25,
   "metadata": {
    "execution": {
     "iopub.execute_input": "2021-11-26T10:03:23.179432Z",
     "iopub.status.busy": "2021-11-26T10:03:23.179140Z",
     "iopub.status.idle": "2021-11-26T10:03:25.573876Z",
     "shell.execute_reply": "2021-11-26T10:03:25.572895Z",
     "shell.execute_reply.started": "2021-11-26T10:03:23.179402Z"
    }
   },
   "outputs": [
    {
     "data": {
      "image/png": "[encoded data removed]",
      "text/plain": [
       "<Figure size 1080x576 with 1 Axes>"
      ]
     },
     "metadata": {
      "needs_background": "light"
     },
     "output_type": "display_data"
    }
   ],
   "source": [
    "#plotting Sales Statewise\n",
    "plt.figure(figsize=(15,8))\n",
    "g= sns.barplot(x='State', y='Sales', data = state_wise_sales, hue='Region', dodge=False)\n",
    "g.set_xticklabels(g.get_xticklabels(), rotation=90)\n",
    "plt.show()"
   ]
  },
  {
   "cell_type": "markdown",
   "metadata": {},
   "source": [
    "* The company has highest sales in the state of California which is around 450k.\n",
    "* New York is the state that constitutes the second highest sales for the company of around 300k.\n",
    "* The states of Texas and Washington end up 3rd and 4th on the chart with around 150k and 140k in sales correspondingly.\n",
    "* Maximum of the sales are done in the west and the east coast regions."
   ]
  },
  {
   "cell_type": "markdown",
   "metadata": {},
   "source": []
  }
 ],
 "metadata": {
  "kernelspec": {
   "display_name": "Python 3",
   "language": "python",
   "name": "python3"
  },
  "language_info": {
   "codemirror_mode": {
    "name": "ipython",
    "version": 3
   },
   "file_extension": ".py",
   "mimetype": "text/x-python",
   "name": "python",
   "nbconvert_exporter": "python",
   "pygments_lexer": "ipython3",
   "version": "3.7.0"
  }
 },
 "nbformat": 4,
 "nbformat_minor": 4
}
